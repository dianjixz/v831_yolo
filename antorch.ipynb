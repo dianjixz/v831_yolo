{
 "cells": [
  {
   "cell_type": "code",
   "execution_count": 1,
   "id": "48e56799",
   "metadata": {},
   "outputs": [],
   "source": [
    "def iou(boxes, anchors):\n",
    "    \"\"\"\n",
    "    Calculate the IOU between boxes and anchors.\n",
    "\n",
    "    :param boxes: 2-d array, shape(n, 2)\n",
    "    :param anchors: 2-d array, shape(k, 2)\n",
    "    :return: 2-d array, shape(n, k)\n",
    "    \"\"\"\n",
    "    # Calculate the intersection,\n",
    "    # the new dimension are added to construct shape (n, 1) and shape (1, k),\n",
    "    # so we can get (n, k) shape result by numpy broadcast\n",
    "    w_min = np.minimum(boxes[:, 0, np.newaxis], anchors[np.newaxis, :, 0])\n",
    "    h_min = np.minimum(boxes[:, 1, np.newaxis], anchors[np.newaxis, :, 1])\n",
    "    inter = w_min * h_min\n",
    "       \n",
    "    # Calculate the union\n",
    "    box_area = boxes[:, 0] * boxes[:, 1]\n",
    "    anchor_area = anchors[:, 0] * anchors[:, 1]\n",
    "    union = box_area[:, np.newaxis] + anchor_area[np.newaxis]\n",
    "\n",
    "    return inter / (union - inter)\n",
    "\n",
    "def fit(self, boxes):\n",
    "        \"\"\"\n",
    "        Run K-means cluster on input boxes.\n",
    "\n",
    "        :param boxes: 2-d array, shape(n, 2), form as (w, h)\n",
    "        :return: None\n",
    "        \"\"\"\n",
    "        # If the current number of iterations is greater than 0, then reset\n",
    "        if self.n_iter > 0:\n",
    "            self.n_iter = 0\n",
    "\n",
    "        np.random.seed(self.random_seed)\n",
    "        n = boxes.shape[0]\n",
    "\n",
    "        # Initialize K cluster centers (i.e., K anchors)\n",
    "        self.anchors_ = boxes[np.random.choice(n, self.k, replace=True)]\n",
    "\n",
    "        self.labels_ = np.zeros((n,))\n",
    "\n",
    "        while True:\n",
    "            self.n_iter += 1\n",
    "\n",
    "            # If the current number of iterations is greater than max number of iterations , then break\n",
    "            if self.n_iter > self.max_iter:\n",
    "                break\n",
    "\n",
    "            self.ious_ = self.iou(boxes, self.anchors_)\n",
    "            distances = 1 - self.ious_\n",
    "            cur_labels = np.argmin(distances, axis=1)\n",
    "\n",
    "            # If anchors not change any more, then break\n",
    "            if (cur_labels == self.labels_).all():\n",
    "                break\n",
    "\n",
    "            # Update K anchors\n",
    "            for i in range(self.k):\n",
    "                self.anchors_[i] = np.mean(boxes[cur_labels == i], axis=0)\n",
    "\n",
    "            self.labels_ = cur_labels"
   ]
  },
  {
   "cell_type": "code",
   "execution_count": 5,
   "id": "b7f363de",
   "metadata": {},
   "outputs": [],
   "source": [
    "from xml.etree import ElementTree as ET\n",
    "def parse_xml(annot_dir):\n",
    "    \"\"\"\n",
    "    Parse XML annotation files in VOC dataset\n",
    "\n",
    "    :param annot_dir: directory path to annotation files\n",
    "    :return: 2-d array\n",
    "    \"\"\"\n",
    "    boxes = []\n",
    "\n",
    "    for xml_file in glob.glob(os.path.join(annot_dir, '*.xml')):\n",
    "        tree = ET.parse(xml_file)\n",
    "\n",
    "        h_img = int(tree.findtext('./size/height'))\n",
    "        w_img = int(tree.findtext('./size/width'))\n",
    "\n",
    "        for obj in tree.iter('object'):\n",
    "            xmin = int(round(float(obj.findtext('bndbox/xmin'))))\n",
    "            ymin = int(round(float(obj.findtext('bndbox/ymin'))))\n",
    "            xmax = int(round(float(obj.findtext('bndbox/xmax'))))\n",
    "            ymax = int(round(float(obj.findtext('bndbox/ymax'))))\n",
    "\n",
    "            w_norm = (xmax - xmin) / w_img\n",
    "            h_norm = (ymax - ymin) / h_img\n",
    "\n",
    "            boxes.append([w_norm, h_norm])\n",
    "\n",
    "    return np.array(boxes)"
   ]
  },
  {
   "cell_type": "code",
   "execution_count": 6,
   "id": "ef1a1a86",
   "metadata": {},
   "outputs": [],
   "source": [
    "annot_dir = \"/home/nihao/work/work_space/v831_yolo/data/custom/Annotations\""
   ]
  },
  {
   "cell_type": "code",
   "execution_count": 7,
   "id": "0dc7ca68",
   "metadata": {},
   "outputs": [
    {
     "ename": "NameError",
     "evalue": "name 'glob' is not defined",
     "output_type": "error",
     "traceback": [
      "\u001b[0;31m---------------------------------------------------------------------------\u001b[0m",
      "\u001b[0;31mNameError\u001b[0m                                 Traceback (most recent call last)",
      "\u001b[0;32m/tmp/ipykernel_26853/3138414119.py\u001b[0m in \u001b[0;36m<module>\u001b[0;34m\u001b[0m\n\u001b[0;32m----> 1\u001b[0;31m \u001b[0mboxes\u001b[0m \u001b[0;34m=\u001b[0m \u001b[0mparse_xml\u001b[0m\u001b[0;34m(\u001b[0m\u001b[0mannot_dir\u001b[0m\u001b[0;34m)\u001b[0m\u001b[0;34m\u001b[0m\u001b[0;34m\u001b[0m\u001b[0m\n\u001b[0m\u001b[1;32m      2\u001b[0m \u001b[0mprint\u001b[0m\u001b[0;34m(\u001b[0m\u001b[0;34m'boxes shape : {}'\u001b[0m\u001b[0;34m.\u001b[0m\u001b[0mformat\u001b[0m\u001b[0;34m(\u001b[0m\u001b[0mboxes\u001b[0m\u001b[0;34m.\u001b[0m\u001b[0mshape\u001b[0m\u001b[0;34m)\u001b[0m\u001b[0;34m)\u001b[0m\u001b[0;34m\u001b[0m\u001b[0;34m\u001b[0m\u001b[0m\n",
      "\u001b[0;32m/tmp/ipykernel_26853/2734171375.py\u001b[0m in \u001b[0;36mparse_xml\u001b[0;34m(annot_dir)\u001b[0m\n\u001b[1;32m      9\u001b[0m     \u001b[0mboxes\u001b[0m \u001b[0;34m=\u001b[0m \u001b[0;34m[\u001b[0m\u001b[0;34m]\u001b[0m\u001b[0;34m\u001b[0m\u001b[0;34m\u001b[0m\u001b[0m\n\u001b[1;32m     10\u001b[0m \u001b[0;34m\u001b[0m\u001b[0m\n\u001b[0;32m---> 11\u001b[0;31m     \u001b[0;32mfor\u001b[0m \u001b[0mxml_file\u001b[0m \u001b[0;32min\u001b[0m \u001b[0mglob\u001b[0m\u001b[0;34m.\u001b[0m\u001b[0mglob\u001b[0m\u001b[0;34m(\u001b[0m\u001b[0mos\u001b[0m\u001b[0;34m.\u001b[0m\u001b[0mpath\u001b[0m\u001b[0;34m.\u001b[0m\u001b[0mjoin\u001b[0m\u001b[0;34m(\u001b[0m\u001b[0mannot_dir\u001b[0m\u001b[0;34m,\u001b[0m \u001b[0;34m'*.xml'\u001b[0m\u001b[0;34m)\u001b[0m\u001b[0;34m)\u001b[0m\u001b[0;34m:\u001b[0m\u001b[0;34m\u001b[0m\u001b[0;34m\u001b[0m\u001b[0m\n\u001b[0m\u001b[1;32m     12\u001b[0m         \u001b[0mtree\u001b[0m \u001b[0;34m=\u001b[0m \u001b[0mET\u001b[0m\u001b[0;34m.\u001b[0m\u001b[0mparse\u001b[0m\u001b[0;34m(\u001b[0m\u001b[0mxml_file\u001b[0m\u001b[0;34m)\u001b[0m\u001b[0;34m\u001b[0m\u001b[0;34m\u001b[0m\u001b[0m\n\u001b[1;32m     13\u001b[0m \u001b[0;34m\u001b[0m\u001b[0m\n",
      "\u001b[0;31mNameError\u001b[0m: name 'glob' is not defined"
     ]
    }
   ],
   "source": [
    "boxes = parse_xml(annot_dir)\n",
    "print('boxes shape : {}'.format(boxes.shape))"
   ]
  },
  {
   "cell_type": "code",
   "execution_count": null,
   "id": "4578c871",
   "metadata": {},
   "outputs": [],
   "source": []
  }
 ],
 "metadata": {
  "kernelspec": {
   "display_name": "Python 3.8 (ipykernel)",
   "language": "python",
   "name": "python3.8"
  },
  "language_info": {
   "codemirror_mode": {
    "name": "ipython",
    "version": 3
   },
   "file_extension": ".py",
   "mimetype": "text/x-python",
   "name": "python",
   "nbconvert_exporter": "python",
   "pygments_lexer": "ipython3",
   "version": "3.8.11"
  }
 },
 "nbformat": 4,
 "nbformat_minor": 5
}
